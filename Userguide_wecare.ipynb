{
 "cells": [
  {
   "cell_type": "markdown",
   "id": "d80e8e53",
   "metadata": {},
   "source": [
    "# USER GUIDE"
   ]
  },
  {
   "cell_type": "markdown",
   "id": "0db98095",
   "metadata": {},
   "source": [
    "### <font color='blue'>General information about the dataset and the purpose of this package</font>"
   ]
  },
  {
   "cell_type": "markdown",
   "id": "36335f25",
   "metadata": {},
   "source": [
    "This package, called 'wecare', is created in order to analyse datasets provided by the team that shows Carehome activities.\n",
    "The Package is currently in prototype stage\n",
    "\n",
    "There are 2 datasets –\n",
    "\n",
    "- Care_home – Master Care Home dataset\n",
    "- Care_home_activity – Care Home Activity dataset (activity is based on a variety of observations carried out at the care home)\n",
    "\n",
    "In this Python package the user can explore the data sets using various functions and extract information and create visualizations. \n",
    "\n",
    "### <font color='blue'>Packages and version numbers</font>\n",
    "\n",
    "This package is created using Python version >= 3.6 \n",
    "\n",
    "\n",
    "In order to run the provided code in this package the user must have installed the following additional packages in the Python environment :\n",
    "\n",
    "- <font color='green'>import</font> pandas <font color='green'> as </font>pd\n",
    "- <font color='green'>import</font> matplotlib.pyplot <font color='green'> as </font> plt\n",
    "\n",
    "### <font color='blue'>Package elements:</font> \n",
    "<img src=\"wecare.png\">\n",
    "\n",
    "### <font color='blue'>How to use 'wecare' package</font>\n"
   ]
  },
  {
   "cell_type": "code",
   "execution_count": 1,
   "id": "7b386ee5",
   "metadata": {},
   "outputs": [],
   "source": [
    "import wecare as wc\n",
    "from wecare import utils\n",
    "from wecare import plots"
   ]
  },
  {
   "cell_type": "code",
   "execution_count": 2,
   "id": "95ef5a6a",
   "metadata": {},
   "outputs": [
    {
     "data": {
      "text/plain": [
       "'1.0'"
      ]
     },
     "execution_count": 2,
     "metadata": {},
     "output_type": "execute_result"
    }
   ],
   "source": [
    "# check the package version\n",
    "wc.__version__"
   ]
  },
  {
   "cell_type": "code",
   "execution_count": 3,
   "id": "354f4a7e",
   "metadata": {},
   "outputs": [],
   "source": [
    "# Set the file path for reading the datasets\n",
    "file_path = 'C:/Work/Qlik/Pre-Interview-Task'"
   ]
  },
  {
   "cell_type": "code",
   "execution_count": 4,
   "id": "213d505a",
   "metadata": {},
   "outputs": [],
   "source": [
    "# Load Care_home master table\n",
    "carehome_master = utils.load_master(file_path + '/Care_home.csv')"
   ]
  },
  {
   "cell_type": "code",
   "execution_count": 5,
   "id": "52b5e742",
   "metadata": {},
   "outputs": [
    {
     "data": {
      "text/html": [
       "<div>\n",
       "<style scoped>\n",
       "    .dataframe tbody tr th:only-of-type {\n",
       "        vertical-align: middle;\n",
       "    }\n",
       "\n",
       "    .dataframe tbody tr th {\n",
       "        vertical-align: top;\n",
       "    }\n",
       "\n",
       "    .dataframe thead th {\n",
       "        text-align: right;\n",
       "    }\n",
       "</style>\n",
       "<table border=\"1\" class=\"dataframe\">\n",
       "  <thead>\n",
       "    <tr style=\"text-align: right;\">\n",
       "      <th></th>\n",
       "      <th>CareHome_id</th>\n",
       "      <th>Care Home Name</th>\n",
       "      <th>Address</th>\n",
       "      <th>Postcode</th>\n",
       "      <th>CCG</th>\n",
       "      <th>ICS</th>\n",
       "      <th>Bed numbers</th>\n",
       "      <th>Staff numbers un-registered</th>\n",
       "      <th>Supporting CCG/ICP/Nurse person</th>\n",
       "      <th>box delivered</th>\n",
       "      <th>training delivered</th>\n",
       "    </tr>\n",
       "  </thead>\n",
       "  <tbody>\n",
       "    <tr>\n",
       "      <th>0</th>\n",
       "      <td>XNH831</td>\n",
       "      <td>CareHome_1</td>\n",
       "      <td>dummy address a11</td>\n",
       "      <td>CO16 8DG</td>\n",
       "      <td>NEE</td>\n",
       "      <td>SNEE</td>\n",
       "      <td>6</td>\n",
       "      <td>NaN</td>\n",
       "      <td>NEE</td>\n",
       "      <td>Yes</td>\n",
       "      <td>Yes</td>\n",
       "    </tr>\n",
       "    <tr>\n",
       "      <th>1</th>\n",
       "      <td>XL2G21</td>\n",
       "      <td>CareHome_2</td>\n",
       "      <td>dummy address a12</td>\n",
       "      <td>CO15 4DA</td>\n",
       "      <td>NEE</td>\n",
       "      <td>SNEE</td>\n",
       "      <td>11</td>\n",
       "      <td>NaN</td>\n",
       "      <td>NEE</td>\n",
       "      <td>Yes</td>\n",
       "      <td>Yes</td>\n",
       "    </tr>\n",
       "    <tr>\n",
       "      <th>2</th>\n",
       "      <td>XL2AC1</td>\n",
       "      <td>CareHome_3</td>\n",
       "      <td>dummy address a13</td>\n",
       "      <td>CO11 2NJ</td>\n",
       "      <td>NEE</td>\n",
       "      <td>SNEE</td>\n",
       "      <td>38</td>\n",
       "      <td>NaN</td>\n",
       "      <td>NEE</td>\n",
       "      <td>Yes</td>\n",
       "      <td>Yes</td>\n",
       "    </tr>\n",
       "    <tr>\n",
       "      <th>3</th>\n",
       "      <td>XL2FE1</td>\n",
       "      <td>CareHome_4</td>\n",
       "      <td>dummy address a14</td>\n",
       "      <td>CO7 0QU</td>\n",
       "      <td>NEE</td>\n",
       "      <td>SNEE</td>\n",
       "      <td>9</td>\n",
       "      <td>NaN</td>\n",
       "      <td>NEE</td>\n",
       "      <td>Yes</td>\n",
       "      <td>Yes</td>\n",
       "    </tr>\n",
       "    <tr>\n",
       "      <th>4</th>\n",
       "      <td>XL2AF1</td>\n",
       "      <td>CareHome_5</td>\n",
       "      <td>dummy address a15</td>\n",
       "      <td>CO5 8BX</td>\n",
       "      <td>NEE</td>\n",
       "      <td>SNEE</td>\n",
       "      <td>8</td>\n",
       "      <td>NaN</td>\n",
       "      <td>NEE</td>\n",
       "      <td>Yes</td>\n",
       "      <td>Yes</td>\n",
       "    </tr>\n",
       "  </tbody>\n",
       "</table>\n",
       "</div>"
      ],
      "text/plain": [
       "  CareHome_id Care Home Name            Address  Postcode  CCG   ICS  \\\n",
       "0      XNH831     CareHome_1  dummy address a11  CO16 8DG  NEE  SNEE   \n",
       "1      XL2G21     CareHome_2  dummy address a12  CO15 4DA  NEE  SNEE   \n",
       "2      XL2AC1     CareHome_3  dummy address a13  CO11 2NJ  NEE  SNEE   \n",
       "3      XL2FE1     CareHome_4  dummy address a14   CO7 0QU  NEE  SNEE   \n",
       "4      XL2AF1     CareHome_5  dummy address a15   CO5 8BX  NEE  SNEE   \n",
       "\n",
       "   Bed numbers  Staff numbers un-registered Supporting CCG/ICP/Nurse person  \\\n",
       "0            6                          NaN                             NEE   \n",
       "1           11                          NaN                             NEE   \n",
       "2           38                          NaN                             NEE   \n",
       "3            9                          NaN                             NEE   \n",
       "4            8                          NaN                             NEE   \n",
       "\n",
       "  box delivered training delivered  \n",
       "0           Yes                Yes  \n",
       "1           Yes                Yes  \n",
       "2           Yes                Yes  \n",
       "3           Yes                Yes  \n",
       "4           Yes                Yes  "
      ]
     },
     "execution_count": 5,
     "metadata": {},
     "output_type": "execute_result"
    }
   ],
   "source": [
    "carehome_master.head()"
   ]
  },
  {
   "cell_type": "code",
   "execution_count": 6,
   "id": "a71670a5",
   "metadata": {},
   "outputs": [],
   "source": [
    "# Load Care_home activity table\n",
    "carehome_activity = utils.load_activity(file_path + '/Care_home_activity.csv')"
   ]
  },
  {
   "cell_type": "code",
   "execution_count": 7,
   "id": "1ff3a3ad",
   "metadata": {},
   "outputs": [
    {
     "data": {
      "text/html": [
       "<div>\n",
       "<style scoped>\n",
       "    .dataframe tbody tr th:only-of-type {\n",
       "        vertical-align: middle;\n",
       "    }\n",
       "\n",
       "    .dataframe tbody tr th {\n",
       "        vertical-align: top;\n",
       "    }\n",
       "\n",
       "    .dataframe thead th {\n",
       "        text-align: right;\n",
       "    }\n",
       "</style>\n",
       "<table border=\"1\" class=\"dataframe\">\n",
       "  <thead>\n",
       "    <tr style=\"text-align: right;\">\n",
       "      <th></th>\n",
       "      <th>CAREHOME_id</th>\n",
       "      <th>Box_id</th>\n",
       "      <th>caseload_month</th>\n",
       "      <th>wmd.caseload_yr -8</th>\n",
       "      <th>caseload_size</th>\n",
       "      <th>Days_Since_Last_Reading</th>\n",
       "      <th>observ_month</th>\n",
       "      <th>wmd.observ_yr -8</th>\n",
       "      <th>BP</th>\n",
       "      <th>Pulse</th>\n",
       "      <th>O2</th>\n",
       "      <th>Temp</th>\n",
       "      <th>NEWS2(0-4)</th>\n",
       "      <th>NEWS2(5-6)</th>\n",
       "      <th>NEWS2(7+)</th>\n",
       "      <th>NEWS2</th>\n",
       "    </tr>\n",
       "  </thead>\n",
       "  <tbody>\n",
       "    <tr>\n",
       "      <th>0</th>\n",
       "      <td>XNH831</td>\n",
       "      <td>BOX1</td>\n",
       "      <td>JUNE</td>\n",
       "      <td>2013</td>\n",
       "      <td>6</td>\n",
       "      <td>66</td>\n",
       "      <td>JUNE</td>\n",
       "      <td>2013</td>\n",
       "      <td>0</td>\n",
       "      <td>0</td>\n",
       "      <td>0</td>\n",
       "      <td>0</td>\n",
       "      <td>0</td>\n",
       "      <td>0</td>\n",
       "      <td>0</td>\n",
       "      <td>0</td>\n",
       "    </tr>\n",
       "    <tr>\n",
       "      <th>1</th>\n",
       "      <td>XL2G21</td>\n",
       "      <td>BOX2</td>\n",
       "      <td>JUNE</td>\n",
       "      <td>2013</td>\n",
       "      <td>8</td>\n",
       "      <td>110</td>\n",
       "      <td>JUNE</td>\n",
       "      <td>2013</td>\n",
       "      <td>0</td>\n",
       "      <td>0</td>\n",
       "      <td>0</td>\n",
       "      <td>0</td>\n",
       "      <td>0</td>\n",
       "      <td>0</td>\n",
       "      <td>0</td>\n",
       "      <td>0</td>\n",
       "    </tr>\n",
       "    <tr>\n",
       "      <th>2</th>\n",
       "      <td>XL2AC1</td>\n",
       "      <td>BOX3</td>\n",
       "      <td>JUNE</td>\n",
       "      <td>2013</td>\n",
       "      <td>2</td>\n",
       "      <td>0</td>\n",
       "      <td>JUNE</td>\n",
       "      <td>2013</td>\n",
       "      <td>0</td>\n",
       "      <td>0</td>\n",
       "      <td>0</td>\n",
       "      <td>0</td>\n",
       "      <td>0</td>\n",
       "      <td>0</td>\n",
       "      <td>0</td>\n",
       "      <td>0</td>\n",
       "    </tr>\n",
       "    <tr>\n",
       "      <th>3</th>\n",
       "      <td>XL2AC1</td>\n",
       "      <td>BOX4</td>\n",
       "      <td>JUNE</td>\n",
       "      <td>2013</td>\n",
       "      <td>2</td>\n",
       "      <td>0</td>\n",
       "      <td>JUNE</td>\n",
       "      <td>2013</td>\n",
       "      <td>0</td>\n",
       "      <td>0</td>\n",
       "      <td>0</td>\n",
       "      <td>0</td>\n",
       "      <td>0</td>\n",
       "      <td>0</td>\n",
       "      <td>0</td>\n",
       "      <td>0</td>\n",
       "    </tr>\n",
       "    <tr>\n",
       "      <th>4</th>\n",
       "      <td>XL2AC1</td>\n",
       "      <td>BOX5</td>\n",
       "      <td>JUNE</td>\n",
       "      <td>2013</td>\n",
       "      <td>3</td>\n",
       "      <td>0</td>\n",
       "      <td>JUNE</td>\n",
       "      <td>2013</td>\n",
       "      <td>0</td>\n",
       "      <td>0</td>\n",
       "      <td>0</td>\n",
       "      <td>0</td>\n",
       "      <td>0</td>\n",
       "      <td>0</td>\n",
       "      <td>0</td>\n",
       "      <td>0</td>\n",
       "    </tr>\n",
       "  </tbody>\n",
       "</table>\n",
       "</div>"
      ],
      "text/plain": [
       "  CAREHOME_id Box_id caseload_month  wmd.caseload_yr -8  caseload_size  \\\n",
       "0      XNH831   BOX1          JUNE                 2013              6   \n",
       "1      XL2G21   BOX2          JUNE                 2013              8   \n",
       "2      XL2AC1   BOX3          JUNE                 2013              2   \n",
       "3      XL2AC1   BOX4          JUNE                 2013              2   \n",
       "4      XL2AC1   BOX5          JUNE                 2013              3   \n",
       "\n",
       "   Days_Since_Last_Reading observ_month  wmd.observ_yr -8  BP  Pulse  O2  \\\n",
       "0                       66        JUNE               2013   0      0   0   \n",
       "1                      110        JUNE               2013   0      0   0   \n",
       "2                        0        JUNE               2013   0      0   0   \n",
       "3                        0        JUNE               2013   0      0   0   \n",
       "4                        0        JUNE               2013   0      0   0   \n",
       "\n",
       "   Temp  NEWS2(0-4)  NEWS2(5-6)  NEWS2(7+)  NEWS2  \n",
       "0     0           0           0          0      0  \n",
       "1     0           0           0          0      0  \n",
       "2     0           0           0          0      0  \n",
       "3     0           0           0          0      0  \n",
       "4     0           0           0          0      0  "
      ]
     },
     "execution_count": 7,
     "metadata": {},
     "output_type": "execute_result"
    }
   ],
   "source": [
    "carehome_activity.head()"
   ]
  },
  {
   "cell_type": "code",
   "execution_count": 8,
   "id": "6c63aac2",
   "metadata": {},
   "outputs": [],
   "source": [
    "# merge the two tables (inner join)\n",
    "carehome = utils.merger_utility()"
   ]
  },
  {
   "cell_type": "code",
   "execution_count": 9,
   "id": "077d3f91",
   "metadata": {},
   "outputs": [
    {
     "data": {
      "text/plain": [
       "(2159, 27)"
      ]
     },
     "execution_count": 9,
     "metadata": {},
     "output_type": "execute_result"
    }
   ],
   "source": [
    "carehome.shape"
   ]
  },
  {
   "cell_type": "code",
   "execution_count": 10,
   "id": "15bd6873",
   "metadata": {},
   "outputs": [
    {
     "name": "stdout",
     "output_type": "stream",
     "text": [
      "Bed Numbers: 4181\n",
      "box_delivered: 103\n",
      "training_delivered: 103\n",
      "\n",
      " CCG Counts: \n",
      "\n",
      "NEE             103\n",
      "West Suffolk     44\n",
      "Name: CCG, dtype: int64\n"
     ]
    }
   ],
   "source": [
    "# Function to get some main KPIs, total bed numbers, box delivery and training status etc\n",
    "utils.get_master_kpi()"
   ]
  },
  {
   "cell_type": "code",
   "execution_count": 11,
   "id": "0b755ded",
   "metadata": {},
   "outputs": [
    {
     "name": "stdout",
     "output_type": "stream",
     "text": [
      "Bed Numbers: 0\n",
      "post_code: ['CO7 0QT']\n",
      "box_delivered: ['Yes']\n",
      "training_delivered: ['Yes']\n",
      "Avg NEWS2: 102\n",
      "Avg NEWS2(7+): 24\n"
     ]
    }
   ],
   "source": [
    "# Function to get some main KPIs for a specific care home\n",
    "utils.get_carehome_details('XM4871')"
   ]
  },
  {
   "cell_type": "code",
   "execution_count": 12,
   "id": "fbed0acd",
   "metadata": {},
   "outputs": [
    {
     "data": {
      "image/png": "[encoded data removed]",
      "text/plain": [
       "<Figure size 432x288 with 1 Axes>"
      ]
     },
     "metadata": {},
     "output_type": "display_data"
    }
   ],
   "source": [
    "# plot the training status\n",
    "plots.comp_training()"
   ]
  },
  {
   "cell_type": "code",
   "execution_count": 13,
   "id": "033339e4",
   "metadata": {},
   "outputs": [
    {
     "data": {
      "image/png": "[encoded data removed]",
      "text/plain": [
       "<Figure size 432x288 with 1 Axes>"
      ]
     },
     "metadata": {},
     "output_type": "display_data"
    }
   ],
   "source": [
    "# plot the box status\n",
    "plots.comp_box('CO7 8AH')"
   ]
  },
  {
   "cell_type": "code",
   "execution_count": 14,
   "id": "327ab2ef",
   "metadata": {},
   "outputs": [
    {
     "data": {
      "image/png": "[encoded data removed]",
      "text/plain": [
       "<Figure size 1440x720 with 1 Axes>"
      ]
     },
     "metadata": {
      "needs_background": "light"
     },
     "output_type": "display_data"
    }
   ],
   "source": [
    "# visualize the NEWS2 Trends based on period\n",
    "plots.news2_trend()"
   ]
  }
 ],
 "metadata": {
  "kernelspec": {
   "display_name": "Python 3",
   "language": "python",
   "name": "python3"
  },
  "language_info": {
   "codemirror_mode": {
    "name": "ipython",
    "version": 3
   },
   "file_extension": ".py",
   "mimetype": "text/x-python",
   "name": "python",
   "nbconvert_exporter": "python",
   "pygments_lexer": "ipython3",
   "version": "3.8.8"
  }
 },
 "nbformat": 4,
 "nbformat_minor": 5
}
